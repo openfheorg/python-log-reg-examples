{
 "cells": [
  {
   "cell_type": "code",
   "execution_count": null,
   "id": "initial_id",
   "metadata": {
    "ExecuteTime": {
     "end_time": "2024-02-20T17:09:07.129604Z",
     "start_time": "2024-02-20T17:09:07.126986Z"
    }
   },
   "outputs": [],
   "source": [
    "import openfhe\n",
    "from typing import Dict, List, Optional, Tuple\n",
    "\n",
    "import yaml\n",
    "\n",
    "from efficient_regression.crypto_utils import create_crypto\n",
    "from efficient_regression.lr_train_funcs import matrix_vector_product_row\n",
    "import logging\n",
    "import numpy as np\n",
    "import pandas as pd\n",
    "\n",
    "from efficient_regression.utils import next_power_of_2, encrypt_weights, mat_to_ct_mat_row_major, get_raw_value_from_ct, \\\n",
    "    one_d_mat_to_vec_col_cloned_ct\n",
    "\n",
    "CT = openfhe.Ciphertext\n",
    "CC = openfhe.CryptoContext\n",
    "\n",
    "\n",
    "def load_data(x_file, y_file) -> Tuple[np.ndarray, np.ndarray, np.ndarray, np.ndarray]:\n",
    "    Xs = pd.read_csv(x_file).to_numpy()\n",
    "    ys = pd.read_csv(y_file).to_numpy()\n",
    "    return Xs, ys, Xs, ys"
   ]
  },
  {
   "cell_type": "markdown",
   "id": "c399efed33df01fa",
   "metadata": {},
   "source": [
    "# Exercises"
   ]
  },
  {
   "cell_type": "code",
   "execution_count": null,
   "id": "578561104e7c755a",
   "metadata": {},
   "outputs": [],
   "source": [
    "def predict(\n",
    "        cc: CC,\n",
    "        ct_X: CT,\n",
    "        ctThetas,\n",
    "        row_size: int,\n",
    "        col_sum_keymap: Dict,\n",
    "        cheb_range_start: float,\n",
    "        cheb_range_end: float,\n",
    "        cheb_poly_degree: int,\n",
    ") -> List:\n",
    "    ################################################\n",
    "    # Exe:\n",
    "    #     implement the dot-product to generate the logits via:\n",
    "    #     - hadamard product\n",
    "    #     - EvalSumCols\n",
    "    #     cc.EvalLogistic() to generate the prediction\n",
    "    ################################################\n",
    "    raise NotImplementedError(\"Implement the prediction\")\n",
    "\n",
    "\n",
    "def repeat_and_encrypt_weights(\n",
    "        cc: CC,\n",
    "        trained_weights: List[float],\n",
    "        padded_row_size: int,\n",
    "        num_slots: int,\n",
    "        kp: openfhe.KeyPair\n",
    "):\n",
    "    ################################################\n",
    "    # Exe: test your understanding of the repeated packing!\n",
    "    #      1) pad the trained_weights vector\n",
    "    #      2) repeat the weight across the number-of-slots\n",
    "    #      3) pack the plaintext\n",
    "    #      4) encrypt\n",
    "    ################################################\n",
    "    raise NotImplementedError(\"Implement the repeat_and_encrypt_weights\")\n",
    "\n",
    "    \n",
    "\n",
    "def predict(\n",
    "        cc: CC,\n",
    "        ct_X: CT,\n",
    "        ctThetas,\n",
    "        row_size: int,\n",
    "        col_sum_keymap: Dict,\n",
    "        cheb_range_start: float,\n",
    "        cheb_range_end: float,\n",
    "        cheb_poly_degree: int,\n",
    ") -> List:\n",
    "    ################################################\n",
    "    # Exe:\n",
    "    #     implement the dot-product to generate the logits via:\n",
    "    #     - hadamard product\n",
    "    #     - EvalSumCols\n",
    "    #     cc.EvalLogistic() to generate the prediction\n",
    "    ################################################\n",
    "    raise NotImplementedError(\"Implement the prediction\")\n",
    "\n",
    "\n",
    "def repeat_and_encrypt_weights(\n",
    "        cc: CC,\n",
    "        trained_weights: List[float],\n",
    "        padded_row_size: int,\n",
    "        num_slots: int,\n",
    "        kp: openfhe.KeyPair\n",
    "):\n",
    "    ################################################\n",
    "    # Exe: test your understanding of the repeated packing!\n",
    "    #      1) pad the trained_weights vector\n",
    "    #      2) repeat the weight across the number-of-slots\n",
    "    #      3) pack the plaintext\n",
    "    #      4) encrypt\n",
    "    ################################################\n",
    "    raise NotImplementedError(\"Implement the repeat_and_encrypt_weights\")\n",
    "\n"
   ]
  },
  {
   "cell_type": "markdown",
   "id": "49fc784a493a97a9",
   "metadata": {},
   "source": [
    "# Code \n",
    "\n",
    "## Loading in the parameters"
   ]
  },
  {
   "cell_type": "code",
   "execution_count": null,
   "id": "6430f61f1b61e518",
   "metadata": {
    "ExecuteTime": {
     "end_time": "2024-02-20T17:09:11.520933Z",
     "start_time": "2024-02-20T17:09:07.688181Z"
    }
   },
   "outputs": [],
   "source": [
    "# Trained in-the-clear using the `logreg_reference.ipynb`\n",
    "\n",
    "trained_weights = [-0.83946494, 0.1006747, -0.86173275, 0.41098421, -0.55124025,\n",
    "                   -0.09287871, -0.03976215, -0.20657445, 0.06133055, 0.24880721]\n",
    "\n",
    "with open(\"efficient_regression/inference_config.yml\", \"r\") as f:\n",
    "    config = yaml.safe_load(f)\n",
    "\n",
    "logging.basicConfig(format=\"[%(filename)s:%(lineno)s - %(funcName)s] %(message)s\",\n",
    "                    level=getattr(logging, config[\"logging_level\"]))\n",
    "logger = logging.getLogger(__name__)\n",
    "\n",
    "logger.debug(\"ML Params\")\n",
    "logger.debug(config[\"ml_params\"])\n",
    "logger.debug(\"Crypto Params\")\n",
    "logger.debug(config[\"crypto_params\"])\n",
    "logger.debug(\"Chebyshev Params\")\n",
    "logger.debug(config[\"chebyshev_params\"])\n",
    "if config[\"crypto_params\"][\"run_bootstrap\"]:\n",
    "    logger.info(\"Running with Bootstrap\")\n",
    "    logger.debug(config[\"crypto_bootstrap_params\"])\n",
    "ml_conf = config[\"ml_params\"]\n",
    "lr_gamma = ml_conf[\"lr_gamma\"]\n",
    "lr_eta = ml_conf[\"lr_eta\"]\n",
    "epochs = ml_conf[\"epochs\"]\n",
    "\n",
    "x_train, y_train, x_test, y_test = load_data(ml_conf[\"x_file\"], ml_conf[\"y_file\"])"
   ]
  },
  {
   "cell_type": "markdown",
   "id": "e10363e4",
   "metadata": {},
   "source": [
    "## Crypto Setup"
   ]
  },
  {
   "cell_type": "code",
   "execution_count": null,
   "id": "63492c40",
   "metadata": {},
   "outputs": [],
   "source": [
    "original_num_samples, original_num_features = x_train.shape\n",
    "\n",
    "logger.debug(\"Generating crypto objects\")\n",
    "cc, kp, num_slots = create_crypto(\n",
    "    crypto_hparams=config[\"crypto_params\"],\n",
    "    bootstrap_hparams=config[\"crypto_bootstrap_params\"]\n",
    ")\n",
    "logger.debug(\"Generating crypto objects\")\n",
    "padded_row_size = next_power_of_2(original_num_features)\n",
    "padded_col_size = num_slots / padded_row_size\n",
    "\n",
    "logger.debug(\"Generating the Sum keys\")\n",
    "eval_sum_col_keys = cc.EvalSumColsKeyGen(kp.secretKey)\n",
    "\n",
    "# Encrypt the weights\n",
    "logger.debug(\"Generating Weights ciphertext\")\n",
    "\n",
    "\n",
    "ct_x_train = mat_to_ct_mat_row_major(\n",
    "    cc,\n",
    "    x_train.tolist(),\n",
    "    padded_row_size,\n",
    "    num_slots,\n",
    "    kp\n",
    ")\n",
    "\n",
    "ct_weights = repeat_and_encrypt_weights(\n",
    "    cc,\n",
    "    trained_weights,\n",
    "    padded_row_size,\n",
    "    num_slots,\n",
    "    kp\n",
    ")"
   ]
  },
  {
   "cell_type": "markdown",
   "id": "1aedde56",
   "metadata": {},
   "source": [
    "## Run Prediction & Decrypt"
   ]
  },
  {
   "cell_type": "code",
   "execution_count": null,
   "id": "475f2888",
   "metadata": {},
   "outputs": [],
   "source": [
    "predictions = predict(cc, ct_x_train, ct_weights, padded_row_size,\n",
    "                      col_sum_keymap=eval_sum_col_keys,\n",
    "                      cheb_range_start=config[\"chebyshev_params\"][\"lower_bound\"],\n",
    "                      cheb_range_end=config[\"chebyshev_params\"][\"upper_bound\"],\n",
    "                      cheb_poly_degree=config[\"chebyshev_params\"][\"polynomial_degree\"],\n",
    "                      )\n",
    "\n",
    "packed_preds: openfhe.Plaintext = cc.Decrypt(predictions, kp.secretKey)\n",
    "clear_preds = []\n",
    "packed_predictions = packed_preds.GetRealPackedValue()\n",
    "for idx in range(0, len(packed_predictions), padded_row_size):\n",
    "    clear_preds.append(packed_predictions[idx])"
   ]
  },
  {
   "cell_type": "markdown",
   "id": "ccb12bb0",
   "metadata": {},
   "source": [
    "# Sanity Checking the Predictions"
   ]
  },
  {
   "cell_type": "code",
   "execution_count": null,
   "id": "129d75e6a0e94071",
   "metadata": {},
   "outputs": [],
   "source": [
    "for i, (y_hat, y) in enumerate(zip(clear_preds, y_train)):\n",
    "    if i > 10:\n",
    "        break\n",
    "    print(f\"Prediction: {y_hat}, Rounded: {np.round(y_hat)}, Label: {y}\")\n"
   ]
  },
  {
   "cell_type": "code",
   "execution_count": null,
   "id": "b1d525e7",
   "metadata": {},
   "outputs": [],
   "source": []
  }
 ],
 "metadata": {
  "kernelspec": {
   "display_name": "Python 3 (ipykernel)",
   "language": "python",
   "name": "python3"
  },
  "language_info": {
   "codemirror_mode": {
    "name": "ipython",
    "version": 3
   },
   "file_extension": ".py",
   "mimetype": "text/x-python",
   "name": "python",
   "nbconvert_exporter": "python",
   "pygments_lexer": "ipython3",
   "version": "3.9.18"
  }
 },
 "nbformat": 4,
 "nbformat_minor": 5
}
