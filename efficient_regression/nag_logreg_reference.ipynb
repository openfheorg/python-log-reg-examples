{
 "cells": [
  {
   "cell_type": "markdown",
   "id": "54bc0082",
   "metadata": {},
   "source": [
    "# Goal:\n",
    "\n",
    "- provide a plaintext interface to analyze step-by-step what is happening in the encrypted code\n",
    "\n",
    "- Used as a Python sanity check because I'm not that familiar with R."
   ]
  },
  {
   "cell_type": "code",
   "execution_count": 1,
   "id": "91303fea",
   "metadata": {
    "ExecuteTime": {
     "end_time": "2024-01-25T23:47:15.797533478Z",
     "start_time": "2024-01-25T23:47:15.618890806Z"
    }
   },
   "outputs": [
    {
     "data": {
      "text/plain": "{'divide': 'warn', 'over': 'warn', 'under': 'ignore', 'invalid': 'warn'}"
     },
     "execution_count": 1,
     "metadata": {},
     "output_type": "execute_result"
    }
   ],
   "source": [
    "import numpy as np\n",
    "np.random.seed(42)\n",
    "import pandas as pd\n",
    "\n",
    "np.seterr(all='raise')"
   ]
  },
  {
   "cell_type": "markdown",
   "id": "a2e8a827",
   "metadata": {},
   "source": [
    "# Load and Process the Data"
   ]
  },
  {
   "cell_type": "code",
   "execution_count": 2,
   "id": "31e34725-f22a-4ce4-bc21-3967727b0d98",
   "metadata": {
    "ExecuteTime": {
     "end_time": "2024-01-25T23:47:15.803462906Z",
     "start_time": "2024-01-25T23:47:15.800578190Z"
    }
   },
   "outputs": [],
   "source": [
    "class bcolors:\n",
    "    HEADER = '\\033[95m'\n",
    "    OKBLUE = '\\033[94m'\n",
    "    OKCYAN = '\\033[96m'\n",
    "    OKGREEN = '\\033[92m'\n",
    "    WARNING = '\\033[93m'\n",
    "    FAIL = '\\033[91m'\n",
    "    ENDC = '\\033[0m'\n",
    "    BOLD = '\\033[1m'\n",
    "    UNDERLINE = '\\033[4m'\n",
    "\n",
    "\n",
    "def load_data(num_samples, compare_to_r_ref):\n",
    "    x_file = \"../data/X_norm_1024.csv\"\n",
    "    y_file = \"../data/y_1024.csv\"\n",
    "    train_x = pd.read_csv(x_file)\n",
    "    train_x = train_x.to_numpy()[:num_samples]\n",
    "    train_y = pd.read_csv(y_file)\n",
    "    train_y = train_y.to_numpy()[:num_samples]\n",
    "    print(f\"{bcolors.OKGREEN}Using subsampled data to compare Python-C++{bcolors.ENDC}\")\n",
    "    print(f\"{bcolors.OKGREEN}Reading in {x_file}, {y_file} {bcolors.ENDC}\")\n",
    "\n",
    "    print(f\"Train X shape is: {train_x.shape}\")\n",
    "    print(f\"Train y shape is: {train_y.shape}\")\n",
    "    return train_x, train_y"
   ]
  },
  {
   "cell_type": "code",
   "execution_count": 3,
   "id": "0ce32218",
   "metadata": {
    "ExecuteTime": {
     "end_time": "2024-01-25T23:47:15.812555593Z",
     "start_time": "2024-01-25T23:47:15.802955167Z"
    }
   },
   "outputs": [
    {
     "name": "stdout",
     "output_type": "stream",
     "text": [
      "\u001B[92mUsing subsampled data to compare Python-C++\u001B[0m\n",
      "\u001B[92mReading in ../data/X_norm_1024.csv, ../data/y_1024.csv \u001B[0m\n",
      "Train X shape is: (1024, 10)\n",
      "Train y shape is: (1024, 1)\n"
     ]
    }
   ],
   "source": [
    "NUM_SAMPLES = 1024\n",
    "COMPARE_TO_R_REF = False\n",
    "lr = 0.1\n",
    "mu = 0.1\n",
    "train_x, train_y = load_data(\n",
    "    num_samples=NUM_SAMPLES,\n",
    "    compare_to_r_ref=COMPARE_TO_R_REF\n",
    ")\n",
    "\n",
    "# Same shape as Marcelo's reference code\n",
    "betas = np.zeros((10, ))"
   ]
  },
  {
   "cell_type": "code",
   "outputs": [],
   "source": [
    "def sigmoid(z):\n",
    "    return 1 / (1 + np.exp(-z))\n",
    "\n",
    "def fwd(train_x, betas, dbg=False):\n",
    "    preds = train_x @ betas\n",
    "    return np.expand_dims(sigmoid(preds), -1)\n",
    "\n",
    "def calculate_gradient(train_x, train_y, betas, fwd, dbg):\n",
    "    preds = fwd(train_x, betas, dbg)\n",
    "    gradient = -train_x.T @ (train_y - preds) / len(train_y)\n",
    "    return gradient\n",
    "\n",
    "def cost(x, y, theta):\n",
    "    m = x.shape[0]\n",
    "    h = sigmoid(np.matmul(x, theta))\n",
    "    t1 = np.matmul(-y.T, np.log(h))\n",
    "    t2_a = (1 - y.T)\n",
    "    t2_b = np.log(np.clip(1 - h, 0.000000000000001, np.max(1 - h)))  # Used to get numerical issues\n",
    "    t2 = np.matmul(t2_a, t2_b)\n",
    "\n",
    "    return ((t1 - t2) / m)[0]\n",
    "\n",
    "def nesterov(betas, epochs, lr, mu, train_x, train_y):\n",
    "    import copy\n",
    "\n",
    "    phi = copy.deepcopy(betas)\n",
    "    theta = copy.deepcopy(betas)\n",
    "\n",
    "    nesterov_loss = [0 for _ in range(epochs)]\n",
    "    # for i in tqdm.trange(epochs):\n",
    "    for i in range(epochs):\n",
    "        print(\"\\n*******************************************\")\n",
    "        print(f\"Iteration: {i}\")\n",
    "        gradient = calculate_gradient(train_x, train_y, theta, fwd, dbg=False)\n",
    "        phi_prime = theta - lr * np.squeeze(gradient)\n",
    "        if i == 0:\n",
    "            theta = phi_prime\n",
    "        else:\n",
    "            theta = phi_prime + mu * (phi_prime - phi)\n",
    "        phi = phi_prime\n",
    "        loss = cost(train_x, train_y, theta)\n",
    "        print(f\"Theta: {theta}\")\n",
    "        print(f\"Phi: {phi}\")\n",
    "        print(f\"Loss: {loss}\")\n",
    "        nesterov_loss[i] = loss\n",
    "\n",
    "        # print(f\"New loss: {cost(train_x, train_y, v)[0]}\")\n",
    "    return nesterov_loss, theta, phi\n"
   ],
   "metadata": {
    "collapsed": false,
    "ExecuteTime": {
     "end_time": "2024-01-25T23:47:15.858824413Z",
     "start_time": "2024-01-25T23:47:15.816483120Z"
    }
   },
   "id": "9ac264a4",
   "execution_count": 4
  },
  {
   "cell_type": "code",
   "execution_count": 5,
   "id": "c74a3d18-2a23-46e6-897a-2dc859beb572",
   "metadata": {
    "ExecuteTime": {
     "end_time": "2024-01-25T23:47:15.859342592Z",
     "start_time": "2024-01-25T23:47:15.858698893Z"
    }
   },
   "outputs": [
    {
     "name": "stdout",
     "output_type": "stream",
     "text": [
      "\n",
      "*******************************************\n",
      "Iteration: 0\n",
      "Theta: [-1.59405048e-02  4.66008137e-03 -1.81152344e-02  1.51367188e-02\n",
      " -1.57226563e-02  1.57828283e-05 -3.32031250e-03  5.85937500e-04\n",
      "  9.76562500e-04  0.00000000e+00]\n",
      "Phi: [-1.59405048e-02  4.66008137e-03 -1.81152344e-02  1.51367188e-02\n",
      " -1.57226563e-02  1.57828283e-05 -3.32031250e-03  5.85937500e-04\n",
      "  9.76562500e-04  0.00000000e+00]\n",
      "Loss: 0.6824088332753198\n",
      "\n",
      "*******************************************\n",
      "Iteration: 1\n",
      "Theta: [-0.03315335  0.00921142 -0.03757909  0.03103008 -0.03228831 -0.00038253\n",
      " -0.00648607  0.00066321  0.0017891   0.00056163]\n",
      "Phi: [-0.03158855  0.00879766 -0.03580965  0.02958523 -0.03078234 -0.00034632\n",
      " -0.00619827  0.00065618  0.00171524  0.00051057]\n",
      "Loss: 0.6713903103516063\n",
      "\n",
      "*******************************************\n",
      "Iteration: 2\n",
      "Theta: [-0.05017535  0.01325299 -0.05672936  0.04628827 -0.0482638  -0.00117161\n",
      " -0.00921444  0.00020309  0.00237382  0.00166007]\n",
      "Phi: [-0.04848564  0.01284796 -0.05482757  0.04476981 -0.04667457 -0.00109659\n",
      " -0.00894024  0.00024428  0.00231395  0.00155557]\n",
      "Loss: 0.6610257231078792\n"
     ]
    }
   ],
   "source": [
    "losses, theta, phi = nesterov(betas, 3, lr, mu, train_x, train_y)"
   ]
  },
  {
   "cell_type": "code",
   "execution_count": 6,
   "id": "745a6998",
   "metadata": {
    "ExecuteTime": {
     "end_time": "2024-01-25T23:47:15.859599022Z",
     "start_time": "2024-01-25T23:47:15.858849471Z"
    }
   },
   "outputs": [
    {
     "data": {
      "text/plain": "[0.6824088332753198, 0.6713903103516063, 0.6610257231078792]"
     },
     "execution_count": 6,
     "metadata": {},
     "output_type": "execute_result"
    }
   ],
   "source": [
    "losses[:10]"
   ]
  },
  {
   "cell_type": "code",
   "outputs": [],
   "source": [],
   "metadata": {
    "collapsed": false,
    "ExecuteTime": {
     "end_time": "2024-01-25T23:47:15.859767042Z",
     "start_time": "2024-01-25T23:47:15.858947758Z"
    }
   },
   "id": "26de4e30ae1a77",
   "execution_count": 6
  }
 ],
 "metadata": {
  "kernelspec": {
   "display_name": "Python 3",
   "language": "python",
   "name": "python3"
  },
  "language_info": {
   "codemirror_mode": {
    "name": "ipython",
    "version": 3
   },
   "file_extension": ".py",
   "mimetype": "text/x-python",
   "name": "python",
   "nbconvert_exporter": "python",
   "pygments_lexer": "ipython3",
   "version": "3.6.13"
  }
 },
 "nbformat": 4,
 "nbformat_minor": 5
}
